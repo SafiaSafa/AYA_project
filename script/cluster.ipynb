{
 "cells": [
  {
   "cell_type": "code",
   "execution_count": null,
   "metadata": {},
   "outputs": [],
   "source": [
    "\n",
    "library(scales)\n",
    "\n",
    "library(beeswarm)\n",
    "\n",
    "library(dendextend)\n",
    "\n",
    "library(\"RColorBrewer\")"
   ]
  },
  {
   "cell_type": "code",
   "execution_count": null,
   "metadata": {},
   "outputs": [],
   "source": [
    "data = read.table(file=\"SLG_TARGET_FPKM2.txt\", header=TRUE, sep=\"\\t\",stringsAsFactors=FALSE)\n",
    "\n",
    "ref=read.table(file=\"refseq.txt\", header=TRUE, sep=\"\\t\",stringsAsFactors=FALSE)\n",
    "\n",
    " "
   ]
  },
  {
   "cell_type": "code",
   "execution_count": null,
   "metadata": {},
   "outputs": [],
   "source": [
    "unique_data=data[!duplicated(data$HGNC_symbol), ]\n"
   ]
  },
  {
   "cell_type": "code",
   "execution_count": null,
   "metadata": {},
   "outputs": [],
   "source": [
    "rownames(unique_data)<-unique_data$HGNC_symbol"
   ]
  },
  {
   "cell_type": "code",
   "execution_count": null,
   "metadata": {},
   "outputs": [],
   "source": [
    "good = match(unique_data$HGNC_symbol,ref$Symbol)\n"
   ]
  },
  {
   "cell_type": "code",
   "execution_count": null,
   "metadata": {},
   "outputs": [],
   "source": [
    "test = unique_data[good,]\n",
    "\n",
    " \n",
    "\n",
    "unique_data=test[complete.cases(test), ]\n",
    "\n",
    " \n",
    "\n",
    "unique_data=unique_data[1:19233,3:481]\n",
    "\n",
    " \n",
    "\n",
    "unique_data = log10(1000 * (unique_data + 1))"
   ]
  },
  {
   "cell_type": "code",
   "execution_count": null,
   "metadata": {},
   "outputs": [],
   "source": [
    "cohort_IQR = apply(unique_data,1,IQR)\n",
    "\n",
    " \n",
    "\n",
    "rank_cohort_IQR = rank(cohort_IQR)\n",
    "\n",
    "ordered_IQR=rank_cohort_IQR[order(-rank_cohort_IQR)]\n",
    "\n",
    " \n",
    "\n",
    "ordered_data=unique_data [order(-rank_cohort_IQR),]\n",
    "\n",
    " \n",
    "\n",
    "#lordered_data=log10(1000 * (ordered_data + 1)) \n",
    "\n",
    " \n",
    "\n",
    "#sample_cor=cor(ordered_data[7:500,1:478])\n",
    "\n",
    "#sample_cor=cor(lordered_data[7:500,1:478])\n",
    "\n",
    " \n",
    "\n",
    "tordered_data=t(ordered_data)\n",
    "\n",
    "sample_dist=dist(tordered_data[1:478,7:500], method = \"euclidean\")\n",
    "\n",
    " \n",
    "\n",
    "#tlordered_data=t(lordered_data)\n",
    "\n",
    "#sample_dist=dist(tlordered_data[1:478,7:500], method = \"euclidean\")\n",
    "\n",
    " \n",
    "\n",
    " \n",
    "\n",
    "#sample_dist=dist(lordered_data, method = \"euclidean\")\n",
    "\n",
    "sample_dist=dist(sample_cor, method = \"euclidean\")\n",
    "\n",
    " \n",
    "\n",
    "hc=hclust(sample_dist, method = \"complete\", members = NULL)\n",
    "\n",
    " \n",
    "\n",
    "plot(hc, cex=0.3)"
   ]
  }
 ],
 "metadata": {
  "kernelspec": {
   "display_name": "R",
   "language": "R",
   "name": "ir"
  },
  "language_info": {
   "codemirror_mode": "r",
   "file_extension": ".r",
   "mimetype": "text/x-r-source",
   "name": "R",
   "pygments_lexer": "r",
   "version": "3.5.1"
  }
 },
 "nbformat": 4,
 "nbformat_minor": 2
}
